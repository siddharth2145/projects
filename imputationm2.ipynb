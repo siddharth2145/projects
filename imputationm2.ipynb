{
 "cells": [
  {
   "cell_type": "code",
   "execution_count": 1,
   "id": "826bcfa7-5b49-4418-821c-0419cfb5cbd0",
   "metadata": {},
   "outputs": [],
   "source": [
    "import pandas as pd\n",
    "import numpy as np\n"
   ]
  },
  {
   "cell_type": "code",
   "execution_count": 2,
   "id": "9a026de5-7e7a-4d6d-9878-f98036f2621b",
   "metadata": {},
   "outputs": [],
   "source": [
    "df=pd.read_csv(\"data_science_job.csv\")"
   ]
  },
  {
   "cell_type": "code",
   "execution_count": 3,
   "id": "aa5cd1d3-0efa-499e-b880-d162acda1d7d",
   "metadata": {},
   "outputs": [
    {
     "data": {
      "text/html": [
       "<div>\n",
       "<style scoped>\n",
       "    .dataframe tbody tr th:only-of-type {\n",
       "        vertical-align: middle;\n",
       "    }\n",
       "\n",
       "    .dataframe tbody tr th {\n",
       "        vertical-align: top;\n",
       "    }\n",
       "\n",
       "    .dataframe thead th {\n",
       "        text-align: right;\n",
       "    }\n",
       "</style>\n",
       "<table border=\"1\" class=\"dataframe\">\n",
       "  <thead>\n",
       "    <tr style=\"text-align: right;\">\n",
       "      <th></th>\n",
       "      <th>enrollee_id</th>\n",
       "      <th>city</th>\n",
       "      <th>city_development_index</th>\n",
       "      <th>gender</th>\n",
       "      <th>relevent_experience</th>\n",
       "      <th>enrolled_university</th>\n",
       "      <th>education_level</th>\n",
       "      <th>major_discipline</th>\n",
       "      <th>experience</th>\n",
       "      <th>company_size</th>\n",
       "      <th>company_type</th>\n",
       "      <th>training_hours</th>\n",
       "      <th>target</th>\n",
       "    </tr>\n",
       "  </thead>\n",
       "  <tbody>\n",
       "    <tr>\n",
       "      <th>0</th>\n",
       "      <td>8949</td>\n",
       "      <td>city_103</td>\n",
       "      <td>0.920</td>\n",
       "      <td>Male</td>\n",
       "      <td>Has relevent experience</td>\n",
       "      <td>no_enrollment</td>\n",
       "      <td>Graduate</td>\n",
       "      <td>STEM</td>\n",
       "      <td>20.0</td>\n",
       "      <td>NaN</td>\n",
       "      <td>NaN</td>\n",
       "      <td>36.0</td>\n",
       "      <td>1.0</td>\n",
       "    </tr>\n",
       "    <tr>\n",
       "      <th>1</th>\n",
       "      <td>29725</td>\n",
       "      <td>city_40</td>\n",
       "      <td>0.776</td>\n",
       "      <td>Male</td>\n",
       "      <td>No relevent experience</td>\n",
       "      <td>no_enrollment</td>\n",
       "      <td>Graduate</td>\n",
       "      <td>STEM</td>\n",
       "      <td>15.0</td>\n",
       "      <td>50-99</td>\n",
       "      <td>Pvt Ltd</td>\n",
       "      <td>47.0</td>\n",
       "      <td>0.0</td>\n",
       "    </tr>\n",
       "    <tr>\n",
       "      <th>2</th>\n",
       "      <td>11561</td>\n",
       "      <td>city_21</td>\n",
       "      <td>0.624</td>\n",
       "      <td>NaN</td>\n",
       "      <td>No relevent experience</td>\n",
       "      <td>Full time course</td>\n",
       "      <td>Graduate</td>\n",
       "      <td>STEM</td>\n",
       "      <td>5.0</td>\n",
       "      <td>NaN</td>\n",
       "      <td>NaN</td>\n",
       "      <td>83.0</td>\n",
       "      <td>0.0</td>\n",
       "    </tr>\n",
       "    <tr>\n",
       "      <th>3</th>\n",
       "      <td>33241</td>\n",
       "      <td>city_115</td>\n",
       "      <td>0.789</td>\n",
       "      <td>NaN</td>\n",
       "      <td>No relevent experience</td>\n",
       "      <td>NaN</td>\n",
       "      <td>Graduate</td>\n",
       "      <td>Business Degree</td>\n",
       "      <td>0.0</td>\n",
       "      <td>NaN</td>\n",
       "      <td>Pvt Ltd</td>\n",
       "      <td>52.0</td>\n",
       "      <td>1.0</td>\n",
       "    </tr>\n",
       "    <tr>\n",
       "      <th>4</th>\n",
       "      <td>666</td>\n",
       "      <td>city_162</td>\n",
       "      <td>0.767</td>\n",
       "      <td>Male</td>\n",
       "      <td>Has relevent experience</td>\n",
       "      <td>no_enrollment</td>\n",
       "      <td>Masters</td>\n",
       "      <td>STEM</td>\n",
       "      <td>20.0</td>\n",
       "      <td>50-99</td>\n",
       "      <td>Funded Startup</td>\n",
       "      <td>8.0</td>\n",
       "      <td>0.0</td>\n",
       "    </tr>\n",
       "  </tbody>\n",
       "</table>\n",
       "</div>"
      ],
      "text/plain": [
       "   enrollee_id      city  city_development_index gender  \\\n",
       "0         8949  city_103                   0.920   Male   \n",
       "1        29725   city_40                   0.776   Male   \n",
       "2        11561   city_21                   0.624    NaN   \n",
       "3        33241  city_115                   0.789    NaN   \n",
       "4          666  city_162                   0.767   Male   \n",
       "\n",
       "       relevent_experience enrolled_university education_level  \\\n",
       "0  Has relevent experience       no_enrollment        Graduate   \n",
       "1   No relevent experience       no_enrollment        Graduate   \n",
       "2   No relevent experience    Full time course        Graduate   \n",
       "3   No relevent experience                 NaN        Graduate   \n",
       "4  Has relevent experience       no_enrollment         Masters   \n",
       "\n",
       "  major_discipline  experience company_size    company_type  training_hours  \\\n",
       "0             STEM        20.0          NaN             NaN            36.0   \n",
       "1             STEM        15.0        50-99         Pvt Ltd            47.0   \n",
       "2             STEM         5.0          NaN             NaN            83.0   \n",
       "3  Business Degree         0.0          NaN         Pvt Ltd            52.0   \n",
       "4             STEM        20.0        50-99  Funded Startup             8.0   \n",
       "\n",
       "   target  \n",
       "0     1.0  \n",
       "1     0.0  \n",
       "2     0.0  \n",
       "3     1.0  \n",
       "4     0.0  "
      ]
     },
     "execution_count": 3,
     "metadata": {},
     "output_type": "execute_result"
    }
   ],
   "source": [
    "df.head()"
   ]
  },
  {
   "cell_type": "code",
   "execution_count": 4,
   "id": "ac148a1a-4c7f-47bd-93f3-6d244110e83a",
   "metadata": {},
   "outputs": [
    {
     "data": {
      "text/plain": [
       "(19158, 13)"
      ]
     },
     "execution_count": 4,
     "metadata": {},
     "output_type": "execute_result"
    }
   ],
   "source": [
    "df.shape"
   ]
  },
  {
   "cell_type": "code",
   "execution_count": 5,
   "id": "8f67cd8b-fd74-4958-b2e7-40e3304dc934",
   "metadata": {},
   "outputs": [
    {
     "data": {
      "text/plain": [
       "enrollee_id                0.000000\n",
       "city                       0.000000\n",
       "city_development_index     2.500261\n",
       "gender                    23.530640\n",
       "relevent_experience        0.000000\n",
       "enrolled_university        2.014824\n",
       "education_level            2.401086\n",
       "major_discipline          14.683161\n",
       "experience                 0.339284\n",
       "company_size              30.994885\n",
       "company_type              32.049274\n",
       "training_hours             3.998330\n",
       "target                     0.000000\n",
       "dtype: float64"
      ]
     },
     "execution_count": 5,
     "metadata": {},
     "output_type": "execute_result"
    }
   ],
   "source": [
    "df.isnull().mean()*100"
   ]
  },
  {
   "cell_type": "code",
   "execution_count": 6,
   "id": "9248e9f1-b1c0-4890-8362-3f615854084a",
   "metadata": {},
   "outputs": [
    {
     "data": {
      "text/plain": [
       "['city_development_index',\n",
       " 'enrolled_university',\n",
       " 'education_level',\n",
       " 'experience',\n",
       " 'training_hours']"
      ]
     },
     "execution_count": 6,
     "metadata": {},
     "output_type": "execute_result"
    }
   ],
   "source": [
    "cols=[var for var in df.columns if df[var].isnull().mean() <0.05 and df[var].isnull().mean()>0]\n",
    "cols"
   ]
  },
  {
   "cell_type": "code",
   "execution_count": 7,
   "id": "e29e9ad6-e65a-4165-9346-3ce1c8f6bd02",
   "metadata": {},
   "outputs": [
    {
     "data": {
      "text/plain": [
       "(19158, 5)"
      ]
     },
     "execution_count": 7,
     "metadata": {},
     "output_type": "execute_result"
    }
   ],
   "source": [
    "df[cols].shape"
   ]
  },
  {
   "cell_type": "code",
   "execution_count": 8,
   "id": "77b9045a-e776-4845-af42-f272f9982af0",
   "metadata": {},
   "outputs": [],
   "source": [
    "X=df.drop(columns=[\"enrollee_id\",\"company_type\",\"gender\",\"company_size\",\"major_discipline\"])\n",
    "y=df[\"target\"]"
   ]
  },
  {
   "cell_type": "code",
   "execution_count": 9,
   "id": "1f0a77f2-6b39-48b4-b286-407ffb2f7502",
   "metadata": {},
   "outputs": [],
   "source": [
    "from sklearn.model_selection import train_test_split"
   ]
  },
  {
   "cell_type": "code",
   "execution_count": 10,
   "id": "905d1401-4d14-48f1-8752-32993b5f6a10",
   "metadata": {},
   "outputs": [],
   "source": [
    "X_train,X_test,y_train,y_test = train_test_split(X,y,test_size=0.2,random_state=2)"
   ]
  },
  {
   "cell_type": "code",
   "execution_count": 11,
   "id": "1c574172-028a-410f-ae0c-df2ae0c8728c",
   "metadata": {},
   "outputs": [],
   "source": [
    "mean_city_development_index=X_train[\"city_development_index\"].mean()\n",
    "median_city_development_index=X_train[\"city_development_index\"].median()\n",
    "\n",
    "mean_training_hours=X_train[\"training_hours\"].mean()\n",
    "median_training_hours=X_train[\"training_hours\"].median()\n",
    "\n",
    "mean_experience=X_train[\"experience\"].mean()\n",
    "median_experience=X_train[\"experience\"].median()"
   ]
  },
  {
   "cell_type": "code",
   "execution_count": 12,
   "id": "4e8ae4b1-c1ae-4bcb-9560-f60d969283fd",
   "metadata": {},
   "outputs": [],
   "source": [
    "X_train.loc[:,\"city_development_index_mean\"]=X_train[\"city_development_index\"].fillna(mean_city_development_index)\n",
    "X_train.loc[:,\"city_development_index_median\"]=X_train[\"city_development_index\"].fillna(median_city_development_index)\n",
    "\n",
    "X_train.loc[:,\"training_hours_mean\"]=X_train[\"training_hours\"].fillna(mean_training_hours)\n",
    "X_train.loc[:,\"training_hours_median\"]=X_train[\"training_hours\"].fillna(median_training_hours)\n",
    "\n",
    "X_train.loc[:,\"experience_mean\"]=X_train[\"experience\"].fillna(mean_experience)\n",
    "X_train.loc[:,\"experience_median\"]=X_train[\"experience\"].fillna(median_experience)\n"
   ]
  },
  {
   "cell_type": "code",
   "execution_count": 13,
   "id": "e793c663-44fd-46de-9fb1-67150c711579",
   "metadata": {},
   "outputs": [
    {
     "data": {
      "text/html": [
       "<div>\n",
       "<style scoped>\n",
       "    .dataframe tbody tr th:only-of-type {\n",
       "        vertical-align: middle;\n",
       "    }\n",
       "\n",
       "    .dataframe tbody tr th {\n",
       "        vertical-align: top;\n",
       "    }\n",
       "\n",
       "    .dataframe thead th {\n",
       "        text-align: right;\n",
       "    }\n",
       "</style>\n",
       "<table border=\"1\" class=\"dataframe\">\n",
       "  <thead>\n",
       "    <tr style=\"text-align: right;\">\n",
       "      <th></th>\n",
       "      <th>city</th>\n",
       "      <th>city_development_index</th>\n",
       "      <th>relevent_experience</th>\n",
       "      <th>enrolled_university</th>\n",
       "      <th>education_level</th>\n",
       "      <th>experience</th>\n",
       "      <th>training_hours</th>\n",
       "      <th>target</th>\n",
       "      <th>city_development_index_mean</th>\n",
       "      <th>city_development_index_median</th>\n",
       "      <th>training_hours_mean</th>\n",
       "      <th>training_hours_median</th>\n",
       "      <th>experience_mean</th>\n",
       "      <th>experience_median</th>\n",
       "    </tr>\n",
       "  </thead>\n",
       "  <tbody>\n",
       "    <tr>\n",
       "      <th>13810</th>\n",
       "      <td>city_61</td>\n",
       "      <td>0.913</td>\n",
       "      <td>Has relevent experience</td>\n",
       "      <td>no_enrollment</td>\n",
       "      <td>Graduate</td>\n",
       "      <td>6.0</td>\n",
       "      <td>304.0</td>\n",
       "      <td>0.0</td>\n",
       "      <td>0.913000</td>\n",
       "      <td>0.913</td>\n",
       "      <td>304.0</td>\n",
       "      <td>304.0</td>\n",
       "      <td>6.0</td>\n",
       "      <td>6.0</td>\n",
       "    </tr>\n",
       "    <tr>\n",
       "      <th>2941</th>\n",
       "      <td>city_16</td>\n",
       "      <td>0.910</td>\n",
       "      <td>Has relevent experience</td>\n",
       "      <td>no_enrollment</td>\n",
       "      <td>Masters</td>\n",
       "      <td>8.0</td>\n",
       "      <td>17.0</td>\n",
       "      <td>0.0</td>\n",
       "      <td>0.910000</td>\n",
       "      <td>0.910</td>\n",
       "      <td>17.0</td>\n",
       "      <td>17.0</td>\n",
       "      <td>8.0</td>\n",
       "      <td>8.0</td>\n",
       "    </tr>\n",
       "    <tr>\n",
       "      <th>11074</th>\n",
       "      <td>city_71</td>\n",
       "      <td>0.884</td>\n",
       "      <td>Has relevent experience</td>\n",
       "      <td>no_enrollment</td>\n",
       "      <td>Graduate</td>\n",
       "      <td>9.0</td>\n",
       "      <td>163.0</td>\n",
       "      <td>0.0</td>\n",
       "      <td>0.884000</td>\n",
       "      <td>0.884</td>\n",
       "      <td>163.0</td>\n",
       "      <td>163.0</td>\n",
       "      <td>9.0</td>\n",
       "      <td>9.0</td>\n",
       "    </tr>\n",
       "    <tr>\n",
       "      <th>13895</th>\n",
       "      <td>city_23</td>\n",
       "      <td>NaN</td>\n",
       "      <td>No relevent experience</td>\n",
       "      <td>no_enrollment</td>\n",
       "      <td>Masters</td>\n",
       "      <td>14.0</td>\n",
       "      <td>69.0</td>\n",
       "      <td>0.0</td>\n",
       "      <td>0.828672</td>\n",
       "      <td>0.903</td>\n",
       "      <td>69.0</td>\n",
       "      <td>69.0</td>\n",
       "      <td>14.0</td>\n",
       "      <td>14.0</td>\n",
       "    </tr>\n",
       "    <tr>\n",
       "      <th>4452</th>\n",
       "      <td>city_90</td>\n",
       "      <td>0.698</td>\n",
       "      <td>No relevent experience</td>\n",
       "      <td>Full time course</td>\n",
       "      <td>Masters</td>\n",
       "      <td>5.0</td>\n",
       "      <td>20.0</td>\n",
       "      <td>0.0</td>\n",
       "      <td>0.698000</td>\n",
       "      <td>0.698</td>\n",
       "      <td>20.0</td>\n",
       "      <td>20.0</td>\n",
       "      <td>5.0</td>\n",
       "      <td>5.0</td>\n",
       "    </tr>\n",
       "  </tbody>\n",
       "</table>\n",
       "</div>"
      ],
      "text/plain": [
       "          city  city_development_index      relevent_experience  \\\n",
       "13810  city_61                   0.913  Has relevent experience   \n",
       "2941   city_16                   0.910  Has relevent experience   \n",
       "11074  city_71                   0.884  Has relevent experience   \n",
       "13895  city_23                     NaN   No relevent experience   \n",
       "4452   city_90                   0.698   No relevent experience   \n",
       "\n",
       "      enrolled_university education_level  experience  training_hours  target  \\\n",
       "13810       no_enrollment        Graduate         6.0           304.0     0.0   \n",
       "2941        no_enrollment         Masters         8.0            17.0     0.0   \n",
       "11074       no_enrollment        Graduate         9.0           163.0     0.0   \n",
       "13895       no_enrollment         Masters        14.0            69.0     0.0   \n",
       "4452     Full time course         Masters         5.0            20.0     0.0   \n",
       "\n",
       "       city_development_index_mean  city_development_index_median  \\\n",
       "13810                     0.913000                          0.913   \n",
       "2941                      0.910000                          0.910   \n",
       "11074                     0.884000                          0.884   \n",
       "13895                     0.828672                          0.903   \n",
       "4452                      0.698000                          0.698   \n",
       "\n",
       "       training_hours_mean  training_hours_median  experience_mean  \\\n",
       "13810                304.0                  304.0              6.0   \n",
       "2941                  17.0                   17.0              8.0   \n",
       "11074                163.0                  163.0              9.0   \n",
       "13895                 69.0                   69.0             14.0   \n",
       "4452                  20.0                   20.0              5.0   \n",
       "\n",
       "       experience_median  \n",
       "13810                6.0  \n",
       "2941                 8.0  \n",
       "11074                9.0  \n",
       "13895               14.0  \n",
       "4452                 5.0  "
      ]
     },
     "execution_count": 13,
     "metadata": {},
     "output_type": "execute_result"
    }
   ],
   "source": [
    "X_train.sample(5)"
   ]
  },
  {
   "cell_type": "code",
   "execution_count": 14,
   "id": "da029e17-09d6-45cf-ba3a-dcc6b1b01816",
   "metadata": {},
   "outputs": [],
   "source": [
    "import matplotlib.pyplot as plt"
   ]
  },
  {
   "cell_type": "code",
   "execution_count": 70,
   "id": "46fa9ed4-e9b3-4f18-87e8-a5fa0b21ecd0",
   "metadata": {},
   "outputs": [
    {
     "name": "stdout",
     "output_type": "stream",
     "text": [
      "Original city_development_index variable variance:  0.015232596622263282\n",
      "city_development_index Variance after median imputation:  0.01484395418968221\n",
      "city_development_index Variance after mean imputation:  0.014981311927511684\n",
      "Original experience variable variance:  42.31272262041717\n",
      "experience Variance after median imputation:  42.18027629640873\n",
      "experience Variance after mean imputation:  42.17743234906967\n",
      "Original training hours variable variance:  3605.7523453683775\n",
      "training hours Variance after median imputation:  3474.8349974528564\n",
      "training hours Variance after mean imputation:  3462.228108456488\n"
     ]
    }
   ],
   "source": [
    "print('Original city_development_index variable variance: ', X_train['city_development_index'].var())\n",
    "print('city_development_index Variance after median imputation: ', X_train['city_development_index_mean'].var())\n",
    "print('city_development_index Variance after mean imputation: ', X_train['city_development_index_median'].var())\n",
    "\n",
    "print('Original experience variable variance: ', X_train['experience'].var())\n",
    "print('experience Variance after median imputation: ', X_train['experience_median'].var())\n",
    "print('experience Variance after mean imputation: ', X_train['experience_mean'].var())\n",
    "\n",
    "print('Original training hours variable variance: ', X_train['training_hours'].var())\n",
    "print('training hours Variance after median imputation: ', X_train['training_hours_median'].var())\n",
    "print('training hours Variance after mean imputation: ', X_train['training_hours_mean'].var())"
   ]
  },
  {
   "cell_type": "code",
   "execution_count": 15,
   "id": "ef096ede-a7f0-49d6-9635-f58f53723d27",
   "metadata": {
    "scrolled": true
   },
   "outputs": [
    {
     "data": {
      "text/plain": [
       "<matplotlib.legend.Legend at 0x1af0f1b70e0>"
      ]
     },
     "execution_count": 15,
     "metadata": {},
     "output_type": "execute_result"
    },
    {
     "data": {
      "image/png": "[encoded data removed]",
      "text/plain": [
       "<Figure size 640x480 with 1 Axes>"
      ]
     },
     "metadata": {},
     "output_type": "display_data"
    }
   ],
   "source": [
    "fig = plt.figure()\n",
    "ax = fig.add_subplot(111)\n",
    "\n",
    "# original variable distribution\n",
    "X_train['city_development_index'].plot(kind='kde', ax=ax)\n",
    "\n",
    "# variable imputed with the median\n",
    "X_train['city_development_index_mean'].plot(kind='kde', ax=ax, color='red')\n",
    "\n",
    "# variable imputed with the mean\n",
    "X_train['city_development_index_median'].plot(kind='kde', ax=ax, color='green')\n",
    "\n",
    "# add legends\n",
    "lines, labels = ax.get_legend_handles_labels()\n",
    "ax.legend(lines, labels, loc='best')"
   ]
  },
  {
   "cell_type": "code",
   "execution_count": null,
   "id": "8c3dcb69-d766-4a0d-ac12-133f64390def",
   "metadata": {},
   "outputs": [],
   "source": []
  }
 ],
 "metadata": {
  "kernelspec": {
   "display_name": "Python [conda env:.conda-ml]",
   "language": "python",
   "name": "conda-env-.conda-ml-py"
  },
  "language_info": {
   "codemirror_mode": {
    "name": "ipython",
    "version": 3
   },
   "file_extension": ".py",
   "mimetype": "text/x-python",
   "name": "python",
   "nbconvert_exporter": "python",
   "pygments_lexer": "ipython3",
   "version": "3.13.4"
  }
 },
 "nbformat": 4,
 "nbformat_minor": 5
}
